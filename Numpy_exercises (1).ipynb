{
 "cells": [
  {
   "cell_type": "code",
   "execution_count": 3,
   "source": [
    "# câu 1 : import module numpy và in ra version \r\n",
    "\r\n",
    "import numpy as np"
   ],
   "outputs": [
    {
     "output_type": "stream",
     "name": "stdout",
     "text": [
      "1.14.3\n"
     ]
    }
   ],
   "metadata": {}
  },
  {
   "cell_type": "code",
   "execution_count": 10,
   "source": [
    "# câu 2 : Tạo mảng 1 chiều từ 0 đến 9\r\n",
    "\r\n",
    "import numpy as np\r\n"
   ],
   "outputs": [
    {
     "output_type": "stream",
     "name": "stdout",
     "text": [
      "<type 'numpy.ndarray'>\n",
      "(10,)\n",
      "[0 1 2 3 4 5 6 7 8 9]\n"
     ]
    }
   ],
   "metadata": {}
  },
  {
   "cell_type": "code",
   "execution_count": 8,
   "source": [
    "# câu 3: Tạo một mảng boolean 3x3 với tất cả giá trị là True\r\n",
    "\r\n",
    "import numpy as np\r\n",
    "\r\n",
    "# Cách 1 :\r\n",
    "a=np.ones((3,3),dtype=np.uint8)\r\n",
    "print(a>0)\r\n",
    "# Cách 2 : \r\n",
    "\r\n",
    "\r\n",
    "# Cách 3:\r\n"
   ],
   "outputs": [
    {
     "output_type": "stream",
     "name": "stdout",
     "text": [
      "[[ True  True  True]\n",
      " [ True  True  True]\n",
      " [ True  True  True]]\n"
     ]
    }
   ],
   "metadata": {}
  },
  {
   "cell_type": "code",
   "execution_count": 11,
   "source": [
    "# câu 4 : Lấy những phần tử mà thoả mãn một điều kiện cho trước của mảng một chiều\r\n",
    "\r\n",
    "import numpy as np\r\n",
    "\r\n",
    "# tạo mảng một chiều từ 0 đến 9\r\n",
    "\r\n",
    "a=np.arange(0,9)\r\n",
    "print(a)\r\n",
    "# Tìm phần tử có giá rị lẻ \r\n",
    "print(a[a%2==1])"
   ],
   "outputs": [
    {
     "output_type": "stream",
     "name": "stdout",
     "text": [
      "[0 1 2 3 4 5 6 7 8]\n",
      "[1 3 5 7]\n"
     ]
    }
   ],
   "metadata": {}
  },
  {
   "cell_type": "code",
   "execution_count": 13,
   "source": [
    "# câu 5 : Thay thế phần tử thoả mãn điều kiện cho trước bằng 1 một giá khác\r\n",
    "\r\n",
    "import numpy as np\r\n",
    "\r\n",
    "# tạo mảng một chiều từ 0 đến 9\r\n",
    "a=np.arange(0,9)\r\n",
    "print(a)\r\n",
    "# Tìm phần tử có giá rị lẻ \r\n",
    "a[a%2==1]=-1\r\n",
    "print(a)\r\n",
    "\r\n",
    "# cách 1\r\n",
    "# Thay thế phần tử có giá trị lẻ bằng -1\r\n"
   ],
   "outputs": [
    {
     "output_type": "stream",
     "name": "stdout",
     "text": [
      "[0 1 2 3 4 5 6 7 8]\n",
      "[ 0 -1  2 -1  4 -1  6 -1  8]\n"
     ]
    }
   ],
   "metadata": {}
  },
  {
   "cell_type": "code",
   "execution_count": 15,
   "source": [
    "# câu 6 : Thay thế phần tử thoả mãn điều kiện cho trước bằng 1 một giá khác \r\n",
    "# nhưng không thay đổi mảng ban đầu\r\n",
    "\r\n",
    "# Thay thế tất cả số lẻ bằng giá trị -1 nhưng mảng ban đầu không thay đổi\r\n",
    "\r\n",
    "import numpy as np\r\n",
    "\r\n",
    "# tạo mảng một chiều từ 0 đến 9\r\n",
    "a=np.arange(0,9)\r\n",
    "print(a)\r\n",
    "# Cách 2 :\r\n",
    "\r\n",
    "print(np.where(a%2==1,-1,a))\r\n",
    "print(a)"
   ],
   "outputs": [
    {
     "output_type": "stream",
     "name": "stdout",
     "text": [
      "[0 1 2 3 4 5 6 7 8]\n",
      "[ 0 -1  2 -1  4 -1  6 -1  8]\n",
      "[0 1 2 3 4 5 6 7 8]\n"
     ]
    }
   ],
   "metadata": {}
  },
  {
   "cell_type": "code",
   "execution_count": 18,
   "source": [
    "# câu 7 : Định dạng/chuyển mảng\r\n",
    "\r\n",
    "# Chuyển mảng 1 chiều thành mảng 2 chiều có 2 hàng ( dòng )\r\n",
    "\r\n",
    "import numpy as np\r\n",
    "\r\n",
    "# tạo mảng 1d gồm 10 phần tử\r\n",
    "a=np.arange(0,10)\r\n",
    "\r\n",
    "# mảng 2 chiều có 2 hàng\r\n",
    "a=a.reshape(2,-1)\r\n",
    "print(a) \r\n"
   ],
   "outputs": [
    {
     "output_type": "stream",
     "name": "stdout",
     "text": [
      "[[0 1 2 3 4]\n",
      " [5 6 7 8 9]]\n"
     ]
    }
   ],
   "metadata": {}
  },
  {
   "cell_type": "code",
   "execution_count": 64,
   "source": [
    "# câu 8:  xếp chồng 2 mảng theo chiều dọc\r\n",
    "\r\n",
    "import numpy as np\r\n",
    "\r\n",
    "# tạo data\r\n",
    "\r\n",
    "# Cách 1 : \r\n",
    "\r\n",
    "\r\n",
    "# Cách 2 : \r\n",
    "\r\n",
    "\r\n",
    "# Cách 3 : \r\n"
   ],
   "outputs": [
    {
     "output_type": "stream",
     "name": "stdout",
     "text": [
      "[[0 1 2 3 4]\n",
      " [5 6 7 8 9]]\n",
      "[[1 1 1 1 1]\n",
      " [1 1 1 1 1]]\n"
     ]
    },
    {
     "output_type": "execute_result",
     "data": {
      "text/plain": [
       "array([[0, 1, 2, 3, 4],\n",
       "       [5, 6, 7, 8, 9],\n",
       "       [1, 1, 1, 1, 1],\n",
       "       [1, 1, 1, 1, 1]])"
      ]
     },
     "metadata": {},
     "execution_count": 64
    }
   ],
   "metadata": {}
  },
  {
   "cell_type": "code",
   "execution_count": null,
   "source": [],
   "outputs": [],
   "metadata": {}
  },
  {
   "cell_type": "code",
   "execution_count": 67,
   "source": [
    "# câu 9 : xếp chồng 2 mảng theo chiều ngang\r\n",
    "\r\n",
    "import numpy as np\r\n",
    "\r\n",
    "# tạo data\r\n",
    "\r\n",
    "# Cách 1 : \r\n",
    "\r\n",
    "\r\n",
    "# Cách 2 : \r\n",
    "\r\n",
    "\r\n",
    "# Cách 3 : \r\n"
   ],
   "outputs": [
    {
     "output_type": "stream",
     "name": "stdout",
     "text": [
      "[[0 1 2 3 4]\n",
      " [5 6 7 8 9]]\n",
      "[[1 1 1 1 1]\n",
      " [1 1 1 1 1]]\n"
     ]
    },
    {
     "output_type": "execute_result",
     "data": {
      "text/plain": [
       "array([[0, 1, 2, 3, 4, 1, 1, 1, 1, 1],\n",
       "       [5, 6, 7, 8, 9, 1, 1, 1, 1, 1]])"
      ]
     },
     "metadata": {},
     "execution_count": 67
    }
   ],
   "metadata": {}
  },
  {
   "cell_type": "code",
   "execution_count": null,
   "source": [],
   "outputs": [],
   "metadata": {
    "scrolled": false
   }
  },
  {
   "cell_type": "code",
   "execution_count": 82,
   "source": [
    "# câu 10\r\n",
    "\r\n",
    "import numpy as np\r\n",
    "\r\n",
    "# chỉ dùng hàm numpy có sẵn với mảng a như bên dưới\r\n",
    "a = np.array([1,2,3])\r\n",
    "print(a)\r\n",
    "\r\n",
    "# tạo mảng mới lặp lại mỗi phần tử lên 3 lần\r\n",
    "\r\n",
    "# tạo mảng mới lặp lại mảng tất cả phần tử lên 3 lần\r\n"
   ],
   "outputs": [
    {
     "output_type": "stream",
     "name": "stdout",
     "text": [
      "[1 2 3]\n"
     ]
    },
    {
     "output_type": "execute_result",
     "data": {
      "text/plain": [
       "array([1, 1, 1, 2, 2, 2, 3, 3, 3, 1, 2, 3, 1, 2, 3, 1, 2, 3])"
      ]
     },
     "metadata": {},
     "execution_count": 82
    }
   ],
   "metadata": {}
  },
  {
   "cell_type": "code",
   "execution_count": 83,
   "source": [
    "# câu 11: Lấy phần tử chung của 2 mảng a và b \r\n",
    "\r\n",
    "import numpy as np\r\n",
    "\r\n",
    "a = np.array([1,2,3,2,3,4,3,5,6])\r\n",
    "b = np.array([7,2,10,2,7,4,9,4,9,8])\r\n",
    "\r\n",
    "# Lấy phần tử chung của 2 mảng a và b \r\n"
   ],
   "outputs": [
    {
     "output_type": "execute_result",
     "data": {
      "text/plain": [
       "array([2, 4])"
      ]
     },
     "metadata": {},
     "execution_count": 83
    }
   ],
   "metadata": {}
  },
  {
   "cell_type": "code",
   "execution_count": 85,
   "source": [
    "# câu 12 : Xoá phần tử từ 1 mảng mà tồn tại trong 1 mảng khác\n",
    "\n",
    "import numpy as np\n",
    "\n",
    "a = np.array([1,2,3,4,5])\n",
    "b = np.array([5,6,7,8,9])\n",
    "\n",
    "# Từ mảng a xoá tất cả các phần tử mà đã có trong mảng b\n",
    "np.setdiff1d(a,b)"
   ],
   "outputs": [
    {
     "output_type": "execute_result",
     "data": {
      "text/plain": [
       "array([1, 2, 3, 4])"
      ]
     },
     "metadata": {},
     "execution_count": 85
    }
   ],
   "metadata": {}
  },
  {
   "cell_type": "code",
   "execution_count": 86,
   "source": [
    "# câu 13: \n",
    "\n",
    "import numpy as np\n",
    "\n",
    "a = np.array([1,2,3,2,3,4,3,4,5,6])\n",
    "b = np.array([7,2,10,2,7,4,9,4,9,8])\n",
    "\n",
    "# Lấy tất cả vị trí nơi giá trị các phần tử của 2 mảng a,b giống nhau\n"
   ],
   "outputs": [
    {
     "output_type": "execute_result",
     "data": {
      "text/plain": [
       "(array([1, 3, 5, 7]),)"
      ]
     },
     "metadata": {},
     "execution_count": 86
    }
   ],
   "metadata": {}
  },
  {
   "cell_type": "code",
   "execution_count": 93,
   "source": [
    "# câu 14 : Lấy tất cả các giá trị trong 1 phạm vi cho trước từ 1 mảng\n",
    "\n",
    "import numpy as np\n",
    "\n",
    "a = np.array([2,6,1,9,10,3,27])\n",
    "\n",
    "# tìm tất cả vị trí của các phần tử có giá trị trong phạm vi [5,10]\n",
    "\n",
    "\n"
   ],
   "outputs": [
    {
     "output_type": "stream",
     "name": "stdout",
     "text": [
      "(array([1, 3, 4]),)\n"
     ]
    },
    {
     "output_type": "execute_result",
     "data": {
      "text/plain": [
       "array([ 6,  9, 10])"
      ]
     },
     "metadata": {},
     "execution_count": 93
    }
   ],
   "metadata": {}
  },
  {
   "cell_type": "code",
   "execution_count": 107,
   "source": [
    "# câu 15 : Tạo hàm xử lý trên mảng numpy\n",
    "\n",
    "import numpy as np\n",
    "\n",
    "def maxx(x,y):\n",
    "    # Lấy số lớn nhất nhất trong 2 số\n",
    "    if x >= y :\n",
    "        return x\n",
    "    else:\n",
    "        return y\n",
    "\n",
    "a = np.array([5,7,9,8,6,4,5])\n",
    "b = np.array([6,3,4,8,9,7,1])\n",
    "\n",
    "# numpy.vectorize lấy hàm maxx: x,y và biến nó thành maxx: a[] -> b[].\n"
   ],
   "outputs": [
    {
     "output_type": "execute_result",
     "data": {
      "text/plain": [
       "array([6., 7., 9., 8., 9., 7., 5.])"
      ]
     },
     "metadata": {},
     "execution_count": 107
    }
   ],
   "metadata": {}
  },
  {
   "cell_type": "code",
   "execution_count": 109,
   "source": [
    "import numpy as np\n",
    "\n",
    "# lấy giá trị lớn hơn giữa a và b\n",
    "a = np.array([5,7,9,8,6,4,5])\n",
    "b = np.array([6,3,4,8,9,7,1])\n",
    "\n",
    "\n",
    "# dùng hàm maximum để\n",
    "\n",
    "\n",
    "# dùng hàm where \n"
   ],
   "outputs": [
    {
     "output_type": "execute_result",
     "data": {
      "text/plain": [
       "array([6, 7, 9, 8, 9, 7, 5])"
      ]
     },
     "metadata": {},
     "execution_count": 109
    }
   ],
   "metadata": {}
  },
  {
   "cell_type": "code",
   "execution_count": 143,
   "source": [
    "# câu 16 : Hoán các cột trong mảng 2 chiều \n",
    "\n",
    "import numpy as np\n",
    "\n",
    "# cho mảng arr có shape 3x3\n",
    "arr = np.arange(9).reshape(3,3)\n",
    "\n",
    "# Hoán cột có index 0 và index 1 trong mảng arr\n"
   ],
   "outputs": [
    {
     "output_type": "stream",
     "name": "stdout",
     "text": [
      "[[0 1 2]\n",
      " [3 4 5]\n",
      " [6 7 8]]\n"
     ]
    },
    {
     "output_type": "execute_result",
     "data": {
      "text/plain": [
       "array([[1, 0, 2],\n",
       "       [4, 3, 5],\n",
       "       [7, 6, 8]])"
      ]
     },
     "metadata": {},
     "execution_count": 143
    }
   ],
   "metadata": {}
  },
  {
   "cell_type": "code",
   "execution_count": 142,
   "source": [
    "# câu 17 :  Hoán 2 hàng trong mảng 2 chiều \n",
    "\n",
    "import numpy as np\n",
    "\n",
    "# cho mảng arr có shape 3x3\n",
    "arr = np.arange(9).reshape(3,3)\n",
    "print(arr)\n",
    "\n",
    "# Hoán dòng có index 0 và index 1 trong mảng arr\n"
   ],
   "outputs": [
    {
     "output_type": "stream",
     "name": "stdout",
     "text": [
      "[[0 1 2]\n",
      " [3 4 5]\n",
      " [6 7 8]]\n"
     ]
    },
    {
     "output_type": "execute_result",
     "data": {
      "text/plain": [
       "array([[3, 4, 5],\n",
       "       [0, 1, 2],\n",
       "       [6, 7, 8]])"
      ]
     },
     "metadata": {},
     "execution_count": 142
    }
   ],
   "metadata": {}
  },
  {
   "cell_type": "code",
   "execution_count": 147,
   "source": [
    "# câu 18 : \n",
    "\n",
    "import numpy as np\n",
    "\n",
    "# cho mảng arr có shape 3x3\n",
    "arr = np.arange(9).reshape(3,3)\n",
    "\n",
    "# Đoản ngược hàng (dòng) trong mảng 2 chiều\n",
    "\n"
   ],
   "outputs": [
    {
     "output_type": "stream",
     "name": "stdout",
     "text": [
      "[[0 1 2]\n",
      " [3 4 5]\n",
      " [6 7 8]]\n"
     ]
    },
    {
     "output_type": "execute_result",
     "data": {
      "text/plain": [
       "array([[6, 7, 8],\n",
       "       [3, 4, 5],\n",
       "       [0, 1, 2]])"
      ]
     },
     "metadata": {},
     "execution_count": 147
    }
   ],
   "metadata": {}
  },
  {
   "cell_type": "code",
   "execution_count": 148,
   "source": [
    "# câu 19 \n",
    "\n",
    "import numpy as np\n",
    "\n",
    "# cho mảng arr có shape 3x3\n",
    "arr = np.arange(9).reshape(3,3)\n",
    "\n",
    "# Đoản ngược cột trong mảng 2 chiều\n"
   ],
   "outputs": [
    {
     "output_type": "stream",
     "name": "stdout",
     "text": [
      "[[0 1 2]\n",
      " [3 4 5]\n",
      " [6 7 8]]\n"
     ]
    },
    {
     "output_type": "execute_result",
     "data": {
      "text/plain": [
       "array([[2, 1, 0],\n",
       "       [5, 4, 3],\n",
       "       [8, 7, 6]])"
      ]
     },
     "metadata": {},
     "execution_count": 148
    }
   ],
   "metadata": {}
  },
  {
   "cell_type": "code",
   "execution_count": 155,
   "source": [
    "# Câu 20 :  Tạo mảng 2 chiều chứa số random kiểu float từ 5 đến 10\n",
    "\n",
    "import numpy as np\n",
    "\n",
    "\n",
    "# Tạo mảng 2 chiều 5x3 từ 5 đến 10\n",
    "# Cách Dùng hàm random.uniform \n",
    "\n"
   ],
   "outputs": [
    {
     "output_type": "stream",
     "name": "stdout",
     "text": [
      "[[6.47685264 7.86244037 6.14808425]\n",
      " [8.21788856 8.30326847 5.69096852]\n",
      " [7.52502254 8.05263037 5.58540214]\n",
      " [5.49201034 6.64052277 8.07812157]\n",
      " [5.17193202 8.56214323 6.66659607]]\n"
     ]
    }
   ],
   "metadata": {}
  },
  {
   "cell_type": "code",
   "execution_count": 451,
   "source": [
    "# câu 21 \n",
    "\n",
    "import numpy as np\n",
    "\n",
    "# cho mảng a chứa các số ngẫu nhiên từ [1, 50)\n",
    "a = np.random.uniform(1,50,20)\n",
    "print(a)\n",
    "\n",
    "# Thay thế tất cả các giá trị lớn hơn một giá trị cho trước thành một phạm vi [10,30]\n",
    "# Thay thế tất cả các giá trị lớn hơn 30 thành 30 và dưới 10 thành 10\n",
    "# Cách 1 : dùng hàm np.clip  \n",
    "\n",
    "\n",
    "# Cách 2 : dùng hàm np.where\n",
    "\n"
   ],
   "outputs": [
    {
     "output_type": "stream",
     "name": "stdout",
     "text": [
      "[27.63 14.64 21.8  42.39  1.23  6.96 33.87 41.47  7.7  29.18 44.67 11.25\n",
      " 10.08  6.31 11.77 48.95 40.77  9.43 41.   14.43]\n",
      "[27.63 14.64 21.8  30.   10.   10.   30.   30.   10.   29.18 30.   11.25\n",
      " 10.08 10.   11.77 30.   30.   10.   30.   14.43]\n"
     ]
    }
   ],
   "metadata": {}
  },
  {
   "cell_type": "code",
   "execution_count": 128,
   "source": [
    "# câu 22: Lấy vị trí của n giá trị đứng đầu từ một mảng numpy\n",
    "\n",
    "import numpy as np\n",
    "\n",
    "# cho mảng a chứa các số ngẫu nhiên từ [1, 50)\n",
    "a = np.random.uniform(1,50, 20)\n",
    "print(a)\n",
    "\n",
    "Lấy vị trí của 5 giá trị lớn nhấttrong một mảng a\n",
    "\n",
    "# Cách 1 : dùng hàm np.argsort() \n",
    "\n",
    "\n",
    "# Cách 2 : dùng hàm sort() \n",
    "\n"
   ],
   "outputs": [
    {
     "output_type": "stream",
     "name": "stdout",
     "text": [
      "[27.62684215 14.64009987 21.80136195 42.39403048  1.23122395  6.95688692\n",
      " 33.86670515 41.466785    7.69862289 29.17957314 44.67477576 11.25090398\n",
      " 10.08108276  6.31046763 11.76517714 48.95256545 40.77247431  9.42510962\n",
      " 40.99501269 14.42961361]\n",
      "Vị trí :  [18  7  3 10 15]\n",
      "Giá trị :  [40.99501269 41.466785   42.39403048 44.67477576 48.95256545]\n",
      "Vị trí :  [18  7  3 10 15]\n",
      "Giá trị :  [40.99501269 41.466785   42.39403048 44.67477576 48.95256545]\n"
     ]
    }
   ],
   "metadata": {}
  },
  {
   "cell_type": "code",
   "execution_count": 237,
   "source": [
    "# câu 23: Chuyển đổi một mảng chứa nhiều mảng thành một mảng 1d phẳng\n",
    "\n",
    "import numpy as np\n",
    "\n",
    "\n",
    "# cho array_of_arrays như sau\n",
    "arr1 = np.arange(3)\n",
    "arr2 = np.arange(3,7)\n",
    "arr3 = np.arange(7,10)\n",
    "\n",
    "array_of_arrays = np.array([arr1, arr2, arr3])\n",
    "print('array_of_arrays: ', array_of_arrays)\n",
    "\n",
    "# Chuyển đổi array_of_arrays thành mảng 1d tuyến tính phẳng \n",
    "\n"
   ],
   "outputs": [
    {
     "output_type": "stream",
     "name": "stdout",
     "text": [
      "array_of_arrays:  [array([0, 1, 2]) array([3, 4, 5, 6]) array([7, 8, 9])]\n",
      "[0 1 2 3 4 5 6 7 8 9]\n"
     ]
    }
   ],
   "metadata": {}
  },
  {
   "cell_type": "code",
   "execution_count": 27,
   "source": [
    "# câu 24: Tìm giá trị lớn nhất trong mỗi hàng của mảng 2d \n",
    "\n",
    "import numpy as np\n",
    "\n",
    "# cho mảng a\n",
    "a = np.random.randint(1, 10, [5,3])\n",
    "print(a)\n",
    "\n",
    "\n",
    "# Cách 1 : dùng np.amax\n",
    "\n",
    "\n",
    "#Cách 2 : dung np.apply_along_axis và np.max\n",
    "\n"
   ],
   "outputs": [
    {
     "output_type": "stream",
     "name": "stdout",
     "text": [
      "[[9 9 4]\n",
      " [8 8 1]\n",
      " [5 3 6]\n",
      " [3 3 3]\n",
      " [2 1 9]]\n"
     ]
    },
    {
     "output_type": "execute_result",
     "data": {
      "text/plain": [
       "array([9, 8, 6, 3, 9])"
      ]
     },
     "metadata": {},
     "execution_count": 27
    }
   ],
   "metadata": {}
  },
  {
   "cell_type": "code",
   "execution_count": 36,
   "source": [
    "# câu 25\n",
    "\n",
    "import numpy as np\n",
    "\n",
    "# cho mảng a\n",
    "a = np.random.randint(1, 10, [5,3])\n",
    "print(a)\n",
    "\n",
    "# tính tỉ số min/max cho mỗi hàng trong mảng a\n",
    "\n"
   ],
   "outputs": [
    {
     "output_type": "stream",
     "name": "stdout",
     "text": [
      "[[9 9 4]\n",
      " [8 8 1]\n",
      " [5 3 6]\n",
      " [3 3 3]\n",
      " [2 1 9]]\n",
      "min-by-max : [0.44444444 0.125      0.5        1.         0.11111111]\n",
      "min hang :  [4 1 3 3 1]\n",
      "max hang :  [9 8 6 3 9]\n"
     ]
    }
   ],
   "metadata": {}
  },
  {
   "cell_type": "code",
   "execution_count": 50,
   "source": [
    "# câu 26: Tìm các vị trí có giá trị trùng lặp trong một mảng numpy\n",
    "\n",
    "import numpy as np\n",
    "\n",
    "# cho mảng a\n",
    "a = np.random.randint(0, 5, 10)\n",
    "print(a)\n",
    "\n",
    "# Tìm các phần tử trùng lặp (lần xuất hiện thứ 2 trở đi) trong mảng đã cho\n",
    "# và đánh dấu chúng là True. Lần đầu tiên xuất hiện là False.\n",
    "\n",
    "# hint: dùng np.full và np.unique\n",
    "\n"
   ],
   "outputs": [
    {
     "output_type": "stream",
     "name": "stdout",
     "text": [
      "[0 0 3 0 2 4 2 2 2 2]\n",
      "[False  True False  True False False  True  True  True  True]\n"
     ]
    }
   ],
   "metadata": {}
  },
  {
   "cell_type": "code",
   "execution_count": 76,
   "source": [
    "# câu 27: loại bỏ tất cả các giá trị còn thiếu (np.nan) trong một mảng\n",
    "\n",
    "import numpy as np\n",
    "\n",
    "# cho mảng a\n",
    "a = np.array([1,2,3,np.nan,5,6,7,np.nan])\n",
    "\n",
    "# bỏ tất cả các giá trị nan từ một mảng numpy 1D\n",
    "\n"
   ],
   "outputs": [
    {
     "output_type": "execute_result",
     "data": {
      "text/plain": [
       "array([1., 2., 3., 5., 6., 7.])"
      ]
     },
     "metadata": {},
     "execution_count": 76
    }
   ],
   "metadata": {}
  },
  {
   "cell_type": "code",
   "execution_count": 79,
   "source": [
    "# câu 28: \n",
    "\n",
    "import numpy as np\n",
    "\n",
    "a = np.array([1,2,3,4,5])\n",
    "b = np.array([4,5,6,7,8])\n",
    "\n",
    "# tính khoảng cách giữa hai mảng a và b, dùng np.linalg.norm\n"
   ],
   "outputs": [
    {
     "output_type": "execute_result",
     "data": {
      "text/plain": [
       "6.708203932499369"
      ]
     },
     "metadata": {},
     "execution_count": 79
    }
   ],
   "metadata": {}
  },
  {
   "cell_type": "code",
   "execution_count": 93,
   "source": [
    "# câu 29: Tìm tất cả các cực đại cục bộ (hay còn gọi các đỉnh) trong một mảng 1d\n",
    "\n",
    "import numpy as np\n",
    "\n",
    "\n",
    "\n",
    "# cho mảng a như sau\n",
    "a = np.array([1, 3, 7, 1, 2, 6, 0, 1])\n",
    "\n",
    "# Tìm tất cả các đỉnh trong một mảng numpy 1D. \n",
    "# Đỉnh là các điểm được bao quanh bởi các giá trị nhỏ hơn ở cả hai phía.\n",
    "\n",
    "# hint: dùng np.diff và np.sign\n"
   ],
   "outputs": [
    {
     "output_type": "execute_result",
     "data": {
      "text/plain": [
       "array([2, 5])"
      ]
     },
     "metadata": {},
     "execution_count": 93
    }
   ],
   "metadata": {}
  }
 ],
 "metadata": {
  "kernelspec": {
   "name": "python3",
   "display_name": "Python 3.6.8 64-bit"
  },
  "language_info": {
   "codemirror_mode": {
    "name": "ipython",
    "version": 3
   },
   "file_extension": ".py",
   "mimetype": "text/x-python",
   "name": "python",
   "nbconvert_exporter": "python",
   "pygments_lexer": "ipython3",
   "version": "3.6.8"
  },
  "interpreter": {
   "hash": "50ead45816676300e289ba2d6ce0098282b8ddc98fd20ae0bc880f6b5a992e44"
  }
 },
 "nbformat": 4,
 "nbformat_minor": 2
}